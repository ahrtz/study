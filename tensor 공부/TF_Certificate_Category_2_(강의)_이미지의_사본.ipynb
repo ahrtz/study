{
  "nbformat": 4,
  "nbformat_minor": 0,
  "metadata": {
    "accelerator": "GPU",
    "colab": {
      "name": "TF Certificate Category 2 (강의) - 이미지의 사본",
      "provenance": [],
      "collapsed_sections": []
    },
    "kernelspec": {
      "display_name": "Python 3",
      "language": "python",
      "name": "python3"
    },
    "language_info": {
      "codemirror_mode": {
        "name": "ipython",
        "version": 3
      },
      "file_extension": ".py",
      "mimetype": "text/x-python",
      "name": "python",
      "nbconvert_exporter": "python",
      "pygments_lexer": "ipython3",
      "version": "3.6.6"
    }
  },
  "cells": [
    {
      "cell_type": "markdown",
      "metadata": {
        "id": "vY-Ca0dhGTAk"
      },
      "source": [
        "# Category 2\n",
        "\n",
        "Fully Connected Layer (Dense)를 활용한 이미지 분류 (Image Classification)"
      ]
    },
    {
      "cell_type": "markdown",
      "metadata": {
        "id": "ww0hxcaSGb0m"
      },
      "source": [
        "## 확인"
      ]
    },
    {
      "cell_type": "markdown",
      "metadata": {
        "id": "FI6oK1X-GdJJ"
      },
      "source": [
        "1. GPU 옵션 켜져 있는지 확인할 것!!! (수정 - 노트설정 - 하드웨어설정 (GPU))"
      ]
    },
    {
      "cell_type": "markdown",
      "metadata": {
        "id": "1yoe-K38GQ4b"
      },
      "source": [
        "## 순서"
      ]
    },
    {
      "cell_type": "markdown",
      "metadata": {
        "id": "Bc6iTV8DGPop"
      },
      "source": [
        "1. **import**: 필요한 모듈 import\n",
        "2. **전처리**: 학습에 필요한 데이터 전처리를 수행합니다.\n",
        "3. **모델링(model)**: 모델을 정의합니다.\n",
        "4. **컴파일(compile)**: 모델을 생성합니다.\n",
        "5. **학습 (fit)**: 모델을 학습시킵니다."
      ]
    },
    {
      "cell_type": "markdown",
      "metadata": {
        "id": "msi1agesayxW"
      },
      "source": [
        "## 문제"
      ]
    },
    {
      "cell_type": "markdown",
      "metadata": {
        "id": "K2BLvK-5ayxW"
      },
      "source": [
        "Create a classifier for the Fashion MNIST dataset\n",
        "\n",
        "Note that the test will expect it to classify 10 classes and that \n",
        "\n",
        "the input shape should be the native size of the Fashion MNIST dataset which is 28x28 monochrome. \n",
        "\n",
        "Do not resize the data. Your input layer should accept\n",
        "\n",
        "(28,28) as the input shape only. \n",
        "\n",
        "If you amend this, the tests will fail."
      ]
    },
    {
      "cell_type": "markdown",
      "metadata": {
        "id": "T4eg-t_payxX"
      },
      "source": [
        "Fashion MNIST 데이터 셋에 대한 분류기 생성\n",
        "테스트는 10 개의 클래스를 분류 할 것으로 예상하고\n",
        "\n",
        "입력 모양은 Fashion MNIST 데이터 세트의 기본 크기 여야합니다.28x28 단색. \n",
        "\n",
        "데이터 크기를 조정하지 마십시오. input_shape는\n",
        "(28,28)을 입력 모양으로 만 사용합니다. "
      ]
    },
    {
      "cell_type": "markdown",
      "metadata": {
        "id": "l-3xqy_ga4KO"
      },
      "source": [
        "## import 하기"
      ]
    },
    {
      "cell_type": "markdown",
      "metadata": {
        "id": "Aj9EzELCa8FN"
      },
      "source": [
        "필요한 모듈을 import 합니다."
      ]
    },
    {
      "cell_type": "code",
      "metadata": {
        "id": "G9M_SARJnil5"
      },
      "source": [
        "import numpy as np\n",
        "import matplotlib.pyplot as plt\n",
        "import tensorflow as tf\n",
        "\n",
        "from tensorflow.keras.layers import Dense, Flatten\n",
        "from tensorflow.keras.models import Sequential\n",
        "from tensorflow.keras.callbacks import ModelCheckpoint"
      ],
      "execution_count": null,
      "outputs": []
    },
    {
      "cell_type": "markdown",
      "metadata": {
        "id": "2HGYCJ1Tnil7"
      },
      "source": [
        "## Load dataset"
      ]
    },
    {
      "cell_type": "markdown",
      "metadata": {
        "id": "Kg0sXFW2nil7"
      },
      "source": [
        "**tf.keras.datasets** 에는 다양한 샘플 데이터를 제공해줍니다."
      ]
    },
    {
      "cell_type": "markdown",
      "metadata": {
        "id": "45rVXT4tnil8"
      },
      "source": [
        "[tf.keras.datasets](https://www.tensorflow.org/api_docs/python/tf/keras/datasets)\n",
        "\n",
        "* **boston_housing**: Boston housing price regression dataset.\n",
        "\n",
        "* **cifar10**: CIFAR10 small images classification dataset.\n",
        "\n",
        "* **cifar100**: CIFAR100 small images classification dataset.\n",
        "\n",
        "* **fashion_mnist**: Fashion-MNIST dataset.\n",
        "\n",
        "* **imdb**: IMDB sentiment classification dataset.\n",
        "\n",
        "* **mnist**: MNIST handwritten digits dataset.\n",
        "\n",
        "* **reuters**: Reuters topic classification dataset."
      ]
    },
    {
      "cell_type": "code",
      "metadata": {
        "id": "nWsdj7Dgnil8"
      },
      "source": [
        "fashion_mnist = tf.keras.datasets.fashion_mnist"
      ],
      "execution_count": null,
      "outputs": []
    },
    {
      "cell_type": "markdown",
      "metadata": {
        "id": "H05dHM_HoSYO"
      },
      "source": [
        "아래 순서가 헷갈릴 수 있습니다. 순서에 유의해 주세요."
      ]
    },
    {
      "cell_type": "code",
      "metadata": {
        "id": "JWSZUSoWnil_",
        "colab": {
          "base_uri": "https://localhost:8080/"
        },
        "outputId": "a74f65e8-cbfc-46e4-924f-703a6861ef87"
      },
      "source": [
        "(x_train, y_train), (x_valid, y_valid) = fashion_mnist.load_data()"
      ],
      "execution_count": null,
      "outputs": [
        {
          "output_type": "stream",
          "text": [
            "Downloading data from https://storage.googleapis.com/tensorflow/tf-keras-datasets/train-labels-idx1-ubyte.gz\n",
            "32768/29515 [=================================] - 0s 0us/step\n",
            "Downloading data from https://storage.googleapis.com/tensorflow/tf-keras-datasets/train-images-idx3-ubyte.gz\n",
            "26427392/26421880 [==============================] - 0s 0us/step\n",
            "Downloading data from https://storage.googleapis.com/tensorflow/tf-keras-datasets/t10k-labels-idx1-ubyte.gz\n",
            "8192/5148 [===============================================] - 0s 0us/step\n",
            "Downloading data from https://storage.googleapis.com/tensorflow/tf-keras-datasets/t10k-images-idx3-ubyte.gz\n",
            "4423680/4422102 [==============================] - 0s 0us/step\n"
          ],
          "name": "stdout"
        }
      ]
    },
    {
      "cell_type": "code",
      "metadata": {
        "id": "tQINRel7nimB",
        "colab": {
          "base_uri": "https://localhost:8080/"
        },
        "outputId": "d74aef57-6f31-49f7-b737-784e6073ed68"
      },
      "source": [
        "x_train.shape, x_valid.shape"
      ],
      "execution_count": null,
      "outputs": [
        {
          "output_type": "execute_result",
          "data": {
            "text/plain": [
              "((60000, 28, 28), (10000, 28, 28))"
            ]
          },
          "metadata": {
            "tags": []
          },
          "execution_count": 4
        }
      ]
    },
    {
      "cell_type": "code",
      "metadata": {
        "id": "RBAF0elZbNii",
        "colab": {
          "base_uri": "https://localhost:8080/"
        },
        "outputId": "29d7891e-64fa-4323-b797-e799d659f5a3"
      },
      "source": [
        "y_train.shape, y_valid.shape"
      ],
      "execution_count": null,
      "outputs": [
        {
          "output_type": "execute_result",
          "data": {
            "text/plain": [
              "((60000,), (10000,))"
            ]
          },
          "metadata": {
            "tags": []
          },
          "execution_count": 5
        }
      ]
    },
    {
      "cell_type": "markdown",
      "metadata": {
        "id": "JwOpcgkRny5W"
      },
      "source": [
        "**이미지 정규화 (Normalization)**\n",
        "\n",
        "* 모든 이미지 픽셀(pixel)값들을 0~1 사이의 값으로 정규화 해 줍니다.\n",
        "* x_train, x_valid 에 대해서만 정규화합니다."
      ]
    },
    {
      "cell_type": "markdown",
      "metadata": {
        "id": "BPF65YnpO7-8"
      },
      "source": [
        "정규화(Normalization) 전의 최소값(min), 최대값(max)을 확인합니다."
      ]
    },
    {
      "cell_type": "code",
      "metadata": {
        "id": "psrsKNe7PFrn",
        "colab": {
          "base_uri": "https://localhost:8080/"
        },
        "outputId": "a49bb8b5-ac48-42d1-9c83-ae147f52bb9f"
      },
      "source": [
        "x_train.min(), x_train.max()"
      ],
      "execution_count": null,
      "outputs": [
        {
          "output_type": "execute_result",
          "data": {
            "text/plain": [
              "(0, 255)"
            ]
          },
          "metadata": {
            "tags": []
          },
          "execution_count": 6
        }
      ]
    },
    {
      "cell_type": "markdown",
      "metadata": {
        "id": "MEt2ouXDPJej"
      },
      "source": [
        "정규화(Normalization) 합니다."
      ]
    },
    {
      "cell_type": "code",
      "metadata": {
        "id": "lFArqzZCntDh"
      },
      "source": [
        "x_train = x_train / 255.0\n",
        "x_valid = x_valid / 255.0"
      ],
      "execution_count": null,
      "outputs": []
    },
    {
      "cell_type": "markdown",
      "metadata": {
        "id": "dZK1P_g4PNCy"
      },
      "source": [
        "정규화 후 최소값/최대값 확인"
      ]
    },
    {
      "cell_type": "code",
      "metadata": {
        "id": "FWJTNdezPQ2h",
        "colab": {
          "base_uri": "https://localhost:8080/"
        },
        "outputId": "8210f5cd-c1a0-4186-c0d5-94f032ce7cf9"
      },
      "source": [
        "x_train.min(), x_train.max()"
      ],
      "execution_count": null,
      "outputs": [
        {
          "output_type": "execute_result",
          "data": {
            "text/plain": [
              "(0.0, 1.0)"
            ]
          },
          "metadata": {
            "tags": []
          },
          "execution_count": 8
        }
      ]
    },
    {
      "cell_type": "markdown",
      "metadata": {
        "id": "3ROhwEP_nimE"
      },
      "source": [
        "## 샘플 데이터 Visualization"
      ]
    },
    {
      "cell_type": "code",
      "metadata": {
        "id": "NdTUcqRDnimE",
        "colab": {
          "base_uri": "https://localhost:8080/",
          "height": 348
        },
        "outputId": "47fba9a0-f948-482a-cbb9-3241c62a2ff6"
      },
      "source": [
        "# 시각화\n",
        "fig, axes = plt.subplots(2, 5)\n",
        "fig.set_size_inches(10, 5)\n",
        "\n",
        "for i in range(10):\n",
        "    axes[i//5, i%5].imshow(x_train[i], cmap='gray')\n",
        "    axes[i//5, i%5].set_title(str(y_train[i]), fontsize=15)\n",
        "    plt.setp( axes[i//5, i%5].get_xticklabels(), visible=False)\n",
        "    plt.setp( axes[i//5, i%5].get_yticklabels(), visible=False)\n",
        "    axes[i//5, i%5].axis('off')\n",
        "\n",
        "plt.tight_layout()\n",
        "plt.show()"
      ],
      "execution_count": null,
      "outputs": [
        {
          "output_type": "display_data",
          "data": {
            "image/png": "[encoded data removed]",
            "text/plain": [
              "<Figure size 720x360 with 10 Axes>"
            ]
          },
          "metadata": {
            "tags": []
          }
        }
      ]
    },
    {
      "cell_type": "markdown",
      "metadata": {
        "id": "jm4hXKxKbXLk"
      },
      "source": [
        "* 0: 티셔츠/탑\n",
        "* 1: 바지\n",
        "* 2: 풀오버(스웨터의 일종)\n",
        "* 3: 드레스\n",
        "* 4: 코트\n",
        "* 5: 샌들\n",
        "* 6: 셔츠\n",
        "* 7: 스니커즈\n",
        "* 8: 가방\n",
        "* 9: 앵클 부츠"
      ]
    },
    {
      "cell_type": "markdown",
      "metadata": {
        "id": "r6lRzZLGnimH"
      },
      "source": [
        "## Flatten Layer"
      ]
    },
    {
      "cell_type": "markdown",
      "metadata": {
        "id": "8US56qQKnimI"
      },
      "source": [
        "**Flatten이란?**\n",
        "\n",
        "* 고차원을 1D로 변환하여 **Dense Layer에 전달**해 주기 위하여 사용합니다.\n",
        "* 28 X 28 의 **2D**로 되어 있는 이미지를 784로 **1D로 펼쳐 주는 작업**입니다."
      ]
    },
    {
      "cell_type": "code",
      "metadata": {
        "id": "LEMQwOUfcDLN"
      },
      "source": [
        "tf.keras.backend.set_floatx('float64')"
      ],
      "execution_count": null,
      "outputs": []
    },
    {
      "cell_type": "markdown",
      "metadata": {
        "id": "G3vxGKQFcIM1"
      },
      "source": [
        "**변환 전**"
      ]
    },
    {
      "cell_type": "code",
      "metadata": {
        "id": "T9zXLgI2nimI",
        "colab": {
          "base_uri": "https://localhost:8080/"
        },
        "outputId": "ed47878d-eebe-480a-d772-00f59a950a75"
      },
      "source": [
        "x_train.shape"
      ],
      "execution_count": null,
      "outputs": [
        {
          "output_type": "execute_result",
          "data": {
            "text/plain": [
              "(60000, 28, 28)"
            ]
          },
          "metadata": {
            "tags": []
          },
          "execution_count": 11
        }
      ]
    },
    {
      "cell_type": "markdown",
      "metadata": {
        "id": "6fWhekBScMtW"
      },
      "source": [
        "**Flatten 적용 후**"
      ]
    },
    {
      "cell_type": "code",
      "metadata": {
        "id": "68jpK460nimL",
        "colab": {
          "base_uri": "https://localhost:8080/"
        },
        "outputId": "d5349f92-f506-4719-b50f-c9ef1f9d26d7"
      },
      "source": [
        "x = Flatten(input_shape=(28, 28))\n",
        "print(x(x_train).shape)"
      ],
      "execution_count": null,
      "outputs": [
        {
          "output_type": "stream",
          "text": [
            "(60000, 784)\n"
          ],
          "name": "stdout"
        }
      ]
    },
    {
      "cell_type": "markdown",
      "metadata": {
        "id": "lrNFGpU4nimZ"
      },
      "source": [
        "## 활성함수 (relu, sigmoid, softmax)"
      ]
    },
    {
      "cell_type": "code",
      "metadata": {
        "id": "ZHztkvVXcfJs"
      },
      "source": [
        "from IPython.display import Image\n",
        "import numpy as np\n",
        "import matplotlib.pyplot as plt"
      ],
      "execution_count": null,
      "outputs": []
    },
    {
      "cell_type": "markdown",
      "metadata": {
        "id": "G-imd0h5fcJ-"
      },
      "source": [
        "### relu"
      ]
    },
    {
      "cell_type": "code",
      "metadata": {
        "id": "bp6jZrlenimc"
      },
      "source": [
        "def relu(x):\n",
        "    return np.maximum(x, 0)"
      ],
      "execution_count": null,
      "outputs": []
    },
    {
      "cell_type": "code",
      "metadata": {
        "id": "DKy6nS3pnime"
      },
      "source": [
        "x = np.linspace(-10, 10)\n",
        "y = relu(x)"
      ],
      "execution_count": null,
      "outputs": []
    },
    {
      "cell_type": "code",
      "metadata": {
        "id": "cbEbU8wKnimh",
        "colab": {
          "base_uri": "https://localhost:8080/",
          "height": 444
        },
        "outputId": "eeaba99b-b4f0-4647-e718-1324bf463a2d"
      },
      "source": [
        "plt.figure(figsize=(10, 7))\n",
        "plt.plot(x, y)\n",
        "plt.title('ReLU activation function')\n",
        "plt.show()"
      ],
      "execution_count": null,
      "outputs": [
        {
          "output_type": "display_data",
          "data": {
            "image/png": "[encoded data removed]",
            "text/plain": [
              "<Figure size 720x504 with 1 Axes>"
            ]
          },
          "metadata": {
            "tags": [],
            "needs_background": "light"
          }
        }
      ]
    },
    {
      "cell_type": "markdown",
      "metadata": {
        "id": "scB0bIEOnimj"
      },
      "source": [
        "**Dense Layer에 ReLU activation 적용**"
      ]
    },
    {
      "cell_type": "code",
      "metadata": {
        "id": "J-h1CkySnimk",
        "colab": {
          "base_uri": "https://localhost:8080/",
          "height": 34
        },
        "outputId": "32fd8bb0-c3ba-4dd4-bb51-65d70d40c74f"
      },
      "source": [
        "Dense(20, activation='relu')"
      ],
      "execution_count": null,
      "outputs": [
        {
          "output_type": "execute_result",
          "data": {
            "text/plain": [
              "<tensorflow.python.keras.layers.core.Dense at 0x7f7ae0131550>"
            ]
          },
          "metadata": {
            "tags": []
          },
          "execution_count": 20
        }
      ]
    },
    {
      "cell_type": "markdown",
      "metadata": {
        "id": "IMI3Z9C7fIrf"
      },
      "source": [
        "### Sigmoid\n"
      ]
    },
    {
      "cell_type": "markdown",
      "metadata": {
        "id": "7ZINPMe4f6YG"
      },
      "source": [
        "\n",
        "\n",
        "$\\displaystyle s(z) = \\frac{1}{1+e^{-z}}$\n",
        "\n",
        "$z$ 값을 0과 1사이의 값으로 바꾸는 함수\n",
        "\n",
        "**Sigmoid 함수 원리**\n",
        "\n",
        "$\\frac{1}{1} = 1$인데, 분모 1에다 0보다 크거나 같은 어떤 수를 더 하면 그 결과는 1 보다 클수 없다.\n",
        "\n",
        "분모에 더 할 값은 $e^{-z}$, 이 값은 어떤 $z$가 주어져도 0보다 작아 지지 않는다.\n",
        "\n",
        "$e^{-z}$는 $z$의 값이 크면 클 수록 0에 가까운 작은 수가 되고 $z$값이 작으면 무한대에 가까운 큰 수가 된다\n",
        "\n",
        "따라서 $z$의 값이 크면 $e^{-z}$의 값이 작아져서 $\\frac{1}{1+e^{-z}}$의 값은 1에 가까워 지고 그 반대는 0에 가까워 진다.\n"
      ]
    },
    {
      "cell_type": "code",
      "metadata": {
        "id": "JRvVtsCdiPxT"
      },
      "source": [
        "def sigmoid(z):\n",
        "    return  1/(1+np.exp(-z))"
      ],
      "execution_count": null,
      "outputs": []
    },
    {
      "cell_type": "code",
      "metadata": {
        "id": "O0obfqMxiOuN",
        "colab": {
          "base_uri": "https://localhost:8080/",
          "height": 428
        },
        "outputId": "0fc0ae7c-f183-4557-a041-8adc2a3a03e3"
      },
      "source": [
        "plt.figure(figsize=(10, 7))\n",
        "\n",
        "x = np.arange(-10, 10)\n",
        "y = sigmoid(x)\n",
        "\n",
        "plt.plot(x, y)\n",
        "plt.show()"
      ],
      "execution_count": null,
      "outputs": [
        {
          "output_type": "display_data",
          "data": {
            "image/png": "[encoded data removed]",
            "text/plain": [
              "<Figure size 720x504 with 1 Axes>"
            ]
          },
          "metadata": {
            "tags": [],
            "needs_background": "light"
          }
        }
      ]
    },
    {
      "cell_type": "markdown",
      "metadata": {
        "id": "WS9NPzGPnimm"
      },
      "source": [
        "### Softmax"
      ]
    },
    {
      "cell_type": "markdown",
      "metadata": {
        "id": "MIeuj7rac4XU"
      },
      "source": [
        "뉴런의 출력값에 대하여 class 분류를 위하여 마지막 단계에서 출력값에 대한 정규화를 해주는 함수이다."
      ]
    },
    {
      "cell_type": "markdown",
      "metadata": {
        "id": "_ij5kTRgc7Fv"
      },
      "source": [
        "사진속 인물이 지금 슬픈 표정인지, 웃는 표정인지, 화난 표정인지 확률적으로 수치화한다고 했을때,\n",
        "\n",
        "슬픔 (11%), 웃음 (29%), 화남(60%) 화같이 확률적 classification 을 할 때 용이하다.\n",
        "\n",
        "소프트맥스 함수의 특징은 **확률의 합은 언제나 1.0** 이다."
      ]
    },
    {
      "cell_type": "code",
      "metadata": {
        "id": "vi-7nWiGnimo",
        "colab": {
          "base_uri": "https://localhost:8080/",
          "height": 147
        },
        "outputId": "f6a1b62d-be35-4824-a5cf-cff2e5103f79"
      },
      "source": [
        "Image('https://i.stack.imgur.com/wxJKQ.jpg')"
      ],
      "execution_count": null,
      "outputs": [
        {
          "output_type": "execute_result",
          "data": {
            "image/jpeg": "[encoded data removed]",
            "text/plain": [
              "<IPython.core.display.Image object>"
            ]
          },
          "metadata": {
            "tags": []
          },
          "execution_count": 17
        }
      ]
    },
    {
      "cell_type": "code",
      "metadata": {
        "id": "yrb1_CwmdKVs",
        "colab": {
          "base_uri": "https://localhost:8080/"
        },
        "outputId": "d02d31c9-e656-4872-c7b1-07f925214ce3"
      },
      "source": [
        "import numpy as np\n",
        "\n",
        "a = np.random.uniform(low=0.0, high=10.0, size=3)\n",
        "\n",
        "def softmax(a) :\n",
        "    exp_a = np.exp(a)\n",
        "    sum_exp_a = np.sum(exp_a)\n",
        "    y = exp_a / sum_exp_a\n",
        "    return y\n",
        "\n",
        "y = softmax(a)\n",
        "print('Class 별 확률 값 출력')\n",
        "print('===' * 10)\n",
        "for i in range(3):\n",
        "    print('Class {} 의 확률: {:.3f}'.format(i, y[i]))\n",
        "print('===' * 10)\n",
        "print('Class 별 확률 값의 합: {:.1f}'.format(y.sum()))"
      ],
      "execution_count": null,
      "outputs": [
        {
          "output_type": "stream",
          "text": [
            "Class 별 확률 값 출력\n",
            "==============================\n",
            "Class 0 의 확률: 0.994\n",
            "Class 1 의 확률: 0.004\n",
            "Class 2 의 확률: 0.002\n",
            "==============================\n",
            "Class 별 확률 값의 합: 1.0\n"
          ],
          "name": "stdout"
        }
      ]
    },
    {
      "cell_type": "markdown",
      "metadata": {
        "id": "09ief1f7dWTo"
      },
      "source": [
        "다중분류의 맨 마지막 출력층 활성함수로는 Dense layer에 'softmax'를 적용합니다.\n",
        "\n",
        "* 단, Dense 레이어의 unit이 2보다 크거나 같은 경우에만 해당합니다. (만약, 1이라면 'sigmoid'를 활성함수로 설정합니다)"
      ]
    },
    {
      "cell_type": "code",
      "metadata": {
        "id": "8KldDsW4nim2",
        "colab": {
          "base_uri": "https://localhost:8080/",
          "height": 35
        },
        "outputId": "f587fd4a-1fca-4160-e5ea-ccddb7b41229"
      },
      "source": [
        "Dense(10, activation='softmax')"
      ],
      "execution_count": null,
      "outputs": [
        {
          "output_type": "execute_result",
          "data": {
            "text/plain": [
              "<tensorflow.python.keras.layers.core.Dense at 0x7fe9a605a0f0>"
            ]
          },
          "metadata": {
            "tags": []
          },
          "execution_count": 25
        }
      ]
    },
    {
      "cell_type": "markdown",
      "metadata": {
        "id": "D6B3UzpUnim4"
      },
      "source": [
        "## 모델 정의 (Sequential)"
      ]
    },
    {
      "cell_type": "markdown",
      "metadata": {
        "id": "azRvYVbQnim5"
      },
      "source": [
        "이제 Modeling을 할 차례입니다.\n",
        "\n",
        "`Sequential` 모델 안에서 층을 깊게 쌓아 올려 주면 됩니다.\n",
        "\n",
        "1. Dense 레이어는 2D 형태의 데이터를 받아들이지 못합니다. Flatten 레이어로 2D -> 1D로 변환해주세요\n",
        "2. 깊은 출력층과 더 많은 Layer를 쌓습니다.\n",
        "3. Dense Layer에 `activation='relu'`를 적용합니다.\n",
        "4. 분류(Classification)의 마지막 층의 출력 숫자는 분류하고자 하는 클래스 갯수와 **같아야** 합니다.\n"
      ]
    },
    {
      "cell_type": "code",
      "metadata": {
        "id": "PCDinGHSnim5"
      },
      "source": [
        "model = Sequential([\n",
        "    # Flatten으로 shape 펼치기\n",
        "    Flatten(input_shape=(28, 28)),\n",
        "    # Dense Layer\n",
        "    Dense(1024, activation='relu'),\n",
        "    Dense(512, activation='relu'),\n",
        "    Dense(256, activation='relu'),\n",
        "    Dense(128, activation='relu'),\n",
        "    Dense(64, activation='relu'),\n",
        "    # Classification을 위한 Softmax \n",
        "    Dense(10, activation='softmax'),\n",
        "])"
      ],
      "execution_count": null,
      "outputs": []
    },
    {
      "cell_type": "code",
      "metadata": {
        "id": "5u4rp7tB-4A1",
        "colab": {
          "base_uri": "https://localhost:8080/"
        },
        "outputId": "0d846d77-ad53-4c17-ee4c-daad640ec96f"
      },
      "source": [
        "model.summary()"
      ],
      "execution_count": null,
      "outputs": [
        {
          "output_type": "stream",
          "text": [
            "Model: \"sequential\"\n",
            "_________________________________________________________________\n",
            "Layer (type)                 Output Shape              Param #   \n",
            "=================================================================\n",
            "flatten_1 (Flatten)          (None, 784)               0         \n",
            "_________________________________________________________________\n",
            "dense (Dense)                (None, 1024)              803840    \n",
            "_________________________________________________________________\n",
            "dense_1 (Dense)              (None, 512)               524800    \n",
            "_________________________________________________________________\n",
            "dense_2 (Dense)              (None, 256)               131328    \n",
            "_________________________________________________________________\n",
            "dense_3 (Dense)              (None, 128)               32896     \n",
            "_________________________________________________________________\n",
            "dense_4 (Dense)              (None, 64)                8256      \n",
            "_________________________________________________________________\n",
            "dense_5 (Dense)              (None, 10)                650       \n",
            "=================================================================\n",
            "Total params: 1,501,770\n",
            "Trainable params: 1,501,770\n",
            "Non-trainable params: 0\n",
            "_________________________________________________________________\n"
          ],
          "name": "stdout"
        }
      ]
    },
    {
      "cell_type": "markdown",
      "metadata": {
        "id": "wnmQV-fDnim8"
      },
      "source": [
        "## 컴파일 (compile)"
      ]
    },
    {
      "cell_type": "markdown",
      "metadata": {
        "id": "pHQ1abHXK8e9"
      },
      "source": [
        "1. `optimizer`는 가장 최적화가 잘되는 알고리즘인 'adam'을 사용합니다.\n",
        "2. `loss`설정\n",
        "  * 출력층 activation이 `sigmoid` 인 경우: `binary_crossentropy`\n",
        "  * 출력층 activation이 `softmax` 인 경우: \n",
        "    * 원핫인코딩(O): `categorical_crossentropy`\n",
        "    * 원핫인코딩(X): `sparse_categorical_crossentropy`)\n",
        "3. `metrics`를 'acc' 혹은 'accuracy'로 지정하면, 학습시 정확도를 모니터링 할 수 있습니다."
      ]
    },
    {
      "cell_type": "markdown",
      "metadata": {
        "id": "QIhoCbT7ggE6"
      },
      "source": [
        "**원핫인코딩 여부 체크방법**"
      ]
    },
    {
      "cell_type": "markdown",
      "metadata": {
        "id": "fy8ubEBUhSWc"
      },
      "source": [
        "케이스 1: 원핫인코딩 (X) "
      ]
    },
    {
      "cell_type": "code",
      "metadata": {
        "id": "Yv2PHWQ2_C8N",
        "colab": {
          "base_uri": "https://localhost:8080/"
        },
        "outputId": "ddc34b09-216d-4141-8b3e-ea7bfa345568"
      },
      "source": [
        "y_train[0]"
      ],
      "execution_count": null,
      "outputs": [
        {
          "output_type": "execute_result",
          "data": {
            "text/plain": [
              "9"
            ]
          },
          "metadata": {
            "tags": []
          },
          "execution_count": 20
        }
      ]
    },
    {
      "cell_type": "markdown",
      "metadata": {
        "id": "Bdn3dV7whepf"
      },
      "source": [
        "케이스 2: 원핫인코딩 (O) "
      ]
    },
    {
      "cell_type": "code",
      "metadata": {
        "id": "0oxwTCpbhVJF",
        "colab": {
          "base_uri": "https://localhost:8080/",
          "height": 34
        },
        "outputId": "351512fe-0ed0-4da5-c9ec-c72a3949f3db"
      },
      "source": [
        "print(tf.one_hot(y_train[0], 10))"
      ],
      "execution_count": null,
      "outputs": [
        {
          "output_type": "stream",
          "text": [
            "tf.Tensor([0. 0. 0. 0. 0. 0. 0. 0. 0. 1.], shape=(10,), dtype=float32)\n"
          ],
          "name": "stdout"
        }
      ]
    },
    {
      "cell_type": "markdown",
      "metadata": {
        "id": "eXGMljJQhmp_"
      },
      "source": [
        "model.compile()"
      ]
    },
    {
      "cell_type": "code",
      "metadata": {
        "id": "QCLw6RMZnim-"
      },
      "source": [
        "model.compile(optimizer='adam', loss='sparse_categorical_crossentropy', metrics=['acc'])"
      ],
      "execution_count": null,
      "outputs": []
    },
    {
      "cell_type": "markdown",
      "metadata": {
        "id": "NyLUPgGCninB"
      },
      "source": [
        "## ModelCheckpoint: 체크포인트 생성"
      ]
    },
    {
      "cell_type": "markdown",
      "metadata": {
        "id": "46Oi04ZMLtEB"
      },
      "source": [
        "`val_loss` 기준으로 epoch 마다 최적의 모델을 저장하기 위하여, ModelCheckpoint를 만듭니다.\n",
        "* `checkpoint_path`는 모델이 저장될 파일 명을 설정합니다.\n",
        "* `ModelCheckpoint`을 선언하고, 적절한 옵션 값을 지정합니다."
      ]
    },
    {
      "cell_type": "code",
      "metadata": {
        "id": "qJwGq3PoninB"
      },
      "source": [
        "checkpoint_path = \"my_checkpoint.ckpt\"\n",
        "checkpoint = ModelCheckpoint(filepath=checkpoint_path, \n",
        "                             save_weights_only=True, \n",
        "                             save_best_only=True, \n",
        "                             monitor='val_loss', \n",
        "                             verbose=1)"
      ],
      "execution_count": null,
      "outputs": []
    },
    {
      "cell_type": "markdown",
      "metadata": {
        "id": "v3mjb5EAninE"
      },
      "source": [
        "## 학습 (fit)"
      ]
    },
    {
      "cell_type": "markdown",
      "metadata": {
        "id": "3-X6hK_DMYZH"
      },
      "source": [
        "1. `validation_data`를 반드시 지정합니다.\n",
        "2. `epochs`을 적절하게 지정합니다.\n",
        "3. `callbacks`에 바로 위에서 만든 checkpoint를 지정합니다."
      ]
    },
    {
      "cell_type": "code",
      "metadata": {
        "id": "2uHXDA_vninF",
        "colab": {
          "base_uri": "https://localhost:8080/"
        },
        "outputId": "f4d7152c-56fe-4266-b2c8-703210fb5278"
      },
      "source": [
        "history = model.fit(x_train, y_train,\n",
        "                    validation_data=(x_valid, y_valid),\n",
        "                    epochs=20,\n",
        "                    callbacks=[checkpoint],\n",
        "                   )"
      ],
      "execution_count": null,
      "outputs": [
        {
          "output_type": "stream",
          "text": [
            "Epoch 1/20\n",
            "1875/1875 [==============================] - 15s 6ms/step - loss: 0.5012 - acc: 0.8190 - val_loss: 0.4536 - val_acc: 0.8410\n",
            "\n",
            "Epoch 00001: val_loss improved from inf to 0.45361, saving model to my_checkpoint.ckpt\n",
            "Epoch 2/20\n",
            "1875/1875 [==============================] - 12s 6ms/step - loss: 0.3778 - acc: 0.8633 - val_loss: 0.3925 - val_acc: 0.8635\n",
            "\n",
            "Epoch 00002: val_loss improved from 0.45361 to 0.39253, saving model to my_checkpoint.ckpt\n",
            "Epoch 3/20\n",
            "1875/1875 [==============================] - 11s 6ms/step - loss: 0.3388 - acc: 0.8766 - val_loss: 0.3754 - val_acc: 0.8704\n",
            "\n",
            "Epoch 00003: val_loss improved from 0.39253 to 0.37539, saving model to my_checkpoint.ckpt\n",
            "Epoch 4/20\n",
            "1875/1875 [==============================] - 11s 6ms/step - loss: 0.3157 - acc: 0.8831 - val_loss: 0.3361 - val_acc: 0.8786\n",
            "\n",
            "Epoch 00004: val_loss improved from 0.37539 to 0.33611, saving model to my_checkpoint.ckpt\n",
            "Epoch 5/20\n",
            "1875/1875 [==============================] - 11s 6ms/step - loss: 0.2981 - acc: 0.8908 - val_loss: 0.3757 - val_acc: 0.8697\n",
            "\n",
            "Epoch 00005: val_loss did not improve from 0.33611\n",
            "Epoch 6/20\n",
            "1875/1875 [==============================] - 11s 6ms/step - loss: 0.2807 - acc: 0.8961 - val_loss: 0.3549 - val_acc: 0.8788\n",
            "\n",
            "Epoch 00006: val_loss did not improve from 0.33611\n",
            "Epoch 7/20\n",
            "1875/1875 [==============================] - 11s 6ms/step - loss: 0.2696 - acc: 0.9003 - val_loss: 0.3437 - val_acc: 0.8780\n",
            "\n",
            "Epoch 00007: val_loss did not improve from 0.33611\n",
            "Epoch 8/20\n",
            "1875/1875 [==============================] - 11s 6ms/step - loss: 0.2592 - acc: 0.9038 - val_loss: 0.3269 - val_acc: 0.8889\n",
            "\n",
            "Epoch 00008: val_loss improved from 0.33611 to 0.32687, saving model to my_checkpoint.ckpt\n",
            "Epoch 9/20\n",
            "1875/1875 [==============================] - 12s 6ms/step - loss: 0.2497 - acc: 0.9079 - val_loss: 0.3349 - val_acc: 0.8841\n",
            "\n",
            "Epoch 00009: val_loss did not improve from 0.32687\n",
            "Epoch 10/20\n",
            "1875/1875 [==============================] - 11s 6ms/step - loss: 0.2424 - acc: 0.9093 - val_loss: 0.3372 - val_acc: 0.8831\n",
            "\n",
            "Epoch 00010: val_loss did not improve from 0.32687\n",
            "Epoch 11/20\n",
            "1875/1875 [==============================] - 12s 6ms/step - loss: 0.2313 - acc: 0.9129 - val_loss: 0.3562 - val_acc: 0.8865\n",
            "\n",
            "Epoch 00011: val_loss did not improve from 0.32687\n",
            "Epoch 12/20\n",
            "1875/1875 [==============================] - 12s 6ms/step - loss: 0.2243 - acc: 0.9158 - val_loss: 0.3599 - val_acc: 0.8860\n",
            "\n",
            "Epoch 00012: val_loss did not improve from 0.32687\n",
            "Epoch 13/20\n",
            "1875/1875 [==============================] - 11s 6ms/step - loss: 0.2187 - acc: 0.9185 - val_loss: 0.3418 - val_acc: 0.8917\n",
            "\n",
            "Epoch 00013: val_loss did not improve from 0.32687\n",
            "Epoch 14/20\n",
            "1875/1875 [==============================] - 11s 6ms/step - loss: 0.2119 - acc: 0.9208 - val_loss: 0.3591 - val_acc: 0.8878\n",
            "\n",
            "Epoch 00014: val_loss did not improve from 0.32687\n",
            "Epoch 15/20\n",
            "1875/1875 [==============================] - 12s 6ms/step - loss: 0.2065 - acc: 0.9224 - val_loss: 0.3606 - val_acc: 0.8879\n",
            "\n",
            "Epoch 00015: val_loss did not improve from 0.32687\n",
            "Epoch 16/20\n",
            "1875/1875 [==============================] - 12s 6ms/step - loss: 0.2000 - acc: 0.9257 - val_loss: 0.3927 - val_acc: 0.8935\n",
            "\n",
            "Epoch 00016: val_loss did not improve from 0.32687\n",
            "Epoch 17/20\n",
            "1875/1875 [==============================] - 11s 6ms/step - loss: 0.1937 - acc: 0.9264 - val_loss: 0.4044 - val_acc: 0.8828\n",
            "\n",
            "Epoch 00017: val_loss did not improve from 0.32687\n",
            "Epoch 18/20\n",
            "1875/1875 [==============================] - 12s 6ms/step - loss: 0.1901 - acc: 0.9291 - val_loss: 0.3737 - val_acc: 0.8902\n",
            "\n",
            "Epoch 00018: val_loss did not improve from 0.32687\n",
            "Epoch 19/20\n",
            "1875/1875 [==============================] - 11s 6ms/step - loss: 0.1838 - acc: 0.9309 - val_loss: 0.3820 - val_acc: 0.8941\n",
            "\n",
            "Epoch 00019: val_loss did not improve from 0.32687\n",
            "Epoch 20/20\n",
            "1875/1875 [==============================] - 11s 6ms/step - loss: 0.1791 - acc: 0.9326 - val_loss: 0.3487 - val_acc: 0.8922\n",
            "\n",
            "Epoch 00020: val_loss did not improve from 0.32687\n"
          ],
          "name": "stdout"
        }
      ]
    },
    {
      "cell_type": "markdown",
      "metadata": {
        "id": "wwnduSgRiBw8"
      },
      "source": [
        "## 학습 완료 후 Load Weights (ModelCheckpoint)"
      ]
    },
    {
      "cell_type": "markdown",
      "metadata": {
        "id": "kLqb_6XrMvdq"
      },
      "source": [
        "학습이 완료된 후에는 반드시 `load_weights`를 해주어야 합니다.\n",
        "\n",
        "그렇지 않으면, 열심히 ModelCheckpoint를 만든 의미가 없습니다."
      ]
    },
    {
      "cell_type": "code",
      "metadata": {
        "id": "4jO1ucZ9ninH",
        "colab": {
          "base_uri": "https://localhost:8080/"
        },
        "outputId": "24f2b697-c5e9-43c1-8855-402e91d8170b"
      },
      "source": [
        "# checkpoint 를 저장한 파일명을 입력합니다.\n",
        "model.load_weights(checkpoint_path)"
      ],
      "execution_count": null,
      "outputs": [
        {
          "output_type": "execute_result",
          "data": {
            "text/plain": [
              "<tensorflow.python.training.tracking.util.CheckpointLoadStatus at 0x7f8ce026dbd0>"
            ]
          },
          "metadata": {
            "tags": []
          },
          "execution_count": 24
        }
      ]
    },
    {
      "cell_type": "markdown",
      "metadata": {
        "id": "3nVIYnIuPaPR"
      },
      "source": [
        "## 학습한 후 검증하고 싶다면?"
      ]
    },
    {
      "cell_type": "code",
      "metadata": {
        "id": "lxt8cK6pPdmb",
        "colab": {
          "base_uri": "https://localhost:8080/"
        },
        "outputId": "cb1b4acc-3505-4a9e-f207-b78ba24c82d1"
      },
      "source": [
        "model.evaluate(x_valid, y_valid)"
      ],
      "execution_count": null,
      "outputs": [
        {
          "output_type": "stream",
          "text": [
            "313/313 [==============================] - 1s 4ms/step - loss: 0.3269 - acc: 0.8889\n"
          ],
          "name": "stdout"
        },
        {
          "output_type": "execute_result",
          "data": {
            "text/plain": [
              "[0.3268671254038811, 0.8889]"
            ]
          },
          "metadata": {
            "tags": []
          },
          "execution_count": 25
        }
      ]
    },
    {
      "cell_type": "markdown",
      "metadata": {
        "id": "95cG8SGdninJ"
      },
      "source": [
        "## 학습 Loss (오차)에 대한 시각화"
      ]
    },
    {
      "cell_type": "code",
      "metadata": {
        "id": "y_xoc7AlninJ",
        "colab": {
          "base_uri": "https://localhost:8080/",
          "height": 572
        },
        "outputId": "ae6be942-43df-46b4-a1e9-9b19dfe8ac1a"
      },
      "source": [
        "plt.figure(figsize=(12, 9))\n",
        "plt.plot(np.arange(1, 21), history.history['loss'])\n",
        "plt.plot(np.arange(1, 21), history.history['val_loss'])\n",
        "plt.title('Loss / Val Loss', fontsize=20)\n",
        "plt.xlabel('Epochs')\n",
        "plt.ylabel('Loss')\n",
        "plt.legend(['loss', 'val_loss'], fontsize=15)\n",
        "plt.show()"
      ],
      "execution_count": null,
      "outputs": [
        {
          "output_type": "display_data",
          "data": {
            "image/png": "[encoded data removed]",
            "text/plain": [
              "<Figure size 864x648 with 1 Axes>"
            ]
          },
          "metadata": {
            "tags": [],
            "needs_background": "light"
          }
        }
      ]
    },
    {
      "cell_type": "code",
      "metadata": {
        "id": "2iSgnD3fninN",
        "colab": {
          "base_uri": "https://localhost:8080/",
          "height": 572
        },
        "outputId": "97214f17-0943-4d31-a450-626dbad7505f"
      },
      "source": [
        "plt.figure(figsize=(12, 9))\n",
        "plt.plot(np.arange(1, 21), history.history['acc'])\n",
        "plt.plot(np.arange(1, 21), history.history['val_acc'])\n",
        "plt.title('Acc / Val Acc', fontsize=20)\n",
        "plt.xlabel('Epochs')\n",
        "plt.ylabel('Acc')\n",
        "plt.legend(['acc', 'val_acc'], fontsize=15)\n",
        "plt.show()"
      ],
      "execution_count": null,
      "outputs": [
        {
          "output_type": "display_data",
          "data": {
            "image/png": "[encoded data removed]",
            "text/plain": [
              "<Figure size 864x648 with 1 Axes>"
            ]
          },
          "metadata": {
            "tags": [],
            "needs_background": "light"
          }
        }
      ]
    }
  ]
}